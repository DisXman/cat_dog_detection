{
  "nbformat": 4,
  "nbformat_minor": 0,
  "metadata": {
    "colab": {
      "provenance": [],
      "gpuType": "T4"
    },
    "kernelspec": {
      "name": "python3",
      "display_name": "Python 3"
    },
    "language_info": {
      "name": "python"
    },
    "accelerator": "GPU"
  },
  "cells": [
    {
      "cell_type": "code",
      "execution_count": null,
      "metadata": {
        "id": "gtm7hJR0gbez"
      },
      "outputs": [],
      "source": [
        "import tensorflow as tf\n",
        "from tensorflow.keras.models import Sequential\n",
        "from tensorflow.keras.layers import Conv2D, MaxPooling2D, Flatten, Dense\n",
        "from tensorflow.keras.optimizers import Adam\n",
        "from tensorflow.keras.losses import categorical_crossentropy\n",
        "from tensorflow.keras.utils import to_categorical, image_dataset_from_directory\n",
        "from tensorflow.keras import layers, models\n",
        "import matplotlib.pyplot as plt"
      ]
    },
    {
      "cell_type": "code",
      "source": [
        "data = image_dataset_from_directory(\"drive/MyDrive/data1000\", seed=123 ,batch_size=32, image_size=(256,256) )"
      ],
      "metadata": {
        "colab": {
          "base_uri": "https://localhost:8080/"
        },
        "id": "CVUu-JnCgwWG",
        "outputId": "bcdb9fb1-ac1c-4e7d-f7d1-7c90e0b21c6f"
      },
      "execution_count": null,
      "outputs": [
        {
          "output_type": "stream",
          "name": "stdout",
          "text": [
            "Found 2008 files belonging to 2 classes.\n"
          ]
        }
      ]
    },
    {
      "cell_type": "code",
      "source": [
        "class_names = data.class_names\n",
        "class_names"
      ],
      "metadata": {
        "id": "3bw1AqTGhUc_",
        "colab": {
          "base_uri": "https://localhost:8080/"
        },
        "outputId": "ca29fc8b-f52f-4600-89eb-dd85488295dc"
      },
      "execution_count": null,
      "outputs": [
        {
          "output_type": "execute_result",
          "data": {
            "text/plain": [
              "['cat', 'dog']"
            ]
          },
          "metadata": {},
          "execution_count": 3
        }
      ]
    },
    {
      "cell_type": "code",
      "source": [
        "for image_batch, label_batch in data:\n",
        "  print(image_batch.shape)\n",
        "  print(label_batch.numpy())  # numpy sayesinde array şeklinde yazdırdık.\n",
        "# len(image_batch) # image_batch 32 uzunluğunda her birinin içersinde 68 tane fotoğraf olan değişkendir.\n",
        "# len(data)\n"
      ],
      "metadata": {
        "id": "l4Wf_5nI1Ey_"
      },
      "execution_count": null,
      "outputs": []
    },
    {
      "cell_type": "code",
      "source": [
        "# plt.figure(figsize=(10,10)) # derleyici çalıştırdığımızda gösterilecek fotoğrafın o anki boyutunu ayarlıyoruz\n",
        "# for image_batch, label_match in data.take(1): # data adlı veri setinden 1 tane grup çekiyor.\n",
        "#   for i in range(4):  # 12 tane fotoğraf yüklemesi için 12 olarak range ayarlıyor\n",
        "#     ax = plt.subplot(2,2,i+1) # (3,4)'lük bir matris ayarlıyor. i+1 ile indeksleme yaparak subplot numarasını belirler.\n",
        "#     plt.imshow(image_batch[i].numpy().astype(\"uint8\")) # resimler numpy dizisi olarak elde edilir. uint8 türüne dönüştürülerek gösterilir.\n",
        "#     plt.title(class_names[label_batch[i]]) # resimin adı class_names adlı listeye göre alır.\n",
        "#     plt.axis(\"off\")  # bununla eksen boyutlarını kapatırız."
      ],
      "metadata": {
        "id": "4HzXyfWU1YzA"
      },
      "execution_count": null,
      "outputs": []
    },
    {
      "cell_type": "code",
      "source": [
        "len(data)"
      ],
      "metadata": {
        "id": "K-etN_AVFRB6"
      },
      "execution_count": null,
      "outputs": []
    },
    {
      "cell_type": "code",
      "source": [
        "train_size = 0.8\n",
        "len(data)*train_size"
      ],
      "metadata": {
        "id": "ve0P3CH1FSPn"
      },
      "execution_count": null,
      "outputs": []
    },
    {
      "cell_type": "code",
      "source": [
        "train_data = data.take(50)\n",
        "len(train_data)"
      ],
      "metadata": {
        "id": "B8zwofSMFdD3"
      },
      "execution_count": null,
      "outputs": []
    },
    {
      "cell_type": "code",
      "source": [
        "test_data = data.skip(50)\n",
        "len(test_data)"
      ],
      "metadata": {
        "id": "oIEJCqMMFkKO"
      },
      "execution_count": null,
      "outputs": []
    },
    {
      "cell_type": "code",
      "source": [
        "val_size = 0.1\n",
        "len(data)*val_size"
      ],
      "metadata": {
        "id": "gyl4VDi7Fvlq"
      },
      "execution_count": null,
      "outputs": []
    },
    {
      "cell_type": "code",
      "source": [
        "val_data = test_data.take(6)\n",
        "len(val_data)"
      ],
      "metadata": {
        "id": "MnXMj1InF2Pd"
      },
      "execution_count": null,
      "outputs": []
    },
    {
      "cell_type": "code",
      "source": [
        "test_data = test_data.skip(6)\n",
        "len(test_data)"
      ],
      "metadata": {
        "id": "kGucJ3GqNUp1"
      },
      "execution_count": null,
      "outputs": []
    },
    {
      "cell_type": "code",
      "source": [
        "# def get_dataset_partitions_tf(ds, train_split=0.8, val_split=0.1, test_split=0.1, shuffle=True, shuffle_size=10000):\n",
        "#     assert (train_split + test_split + val_split) == 1\n",
        "\n",
        "#     ds_size = len(ds)\n",
        "\n",
        "#     if shuffle:\n",
        "#         ds = ds.shuffle(shuffle_size, seed=12)\n",
        "\n",
        "#     train_size = int(train_split * ds_size)\n",
        "#     val_size = int(val_split * ds_size)\n",
        "\n",
        "#     traindata = ds.take(train_size)\n",
        "#     val_data = ds.skip(train_size).take(val_size)\n",
        "#     test_data = ds.skip(train_size).skip(val_size)\n",
        "\n",
        "#     return train_data, val_data, test_data"
      ],
      "metadata": {
        "id": "c-zJ1nMWO-nK"
      },
      "execution_count": null,
      "outputs": []
    },
    {
      "cell_type": "code",
      "source": [
        "# train_ds, val_ds, test_ds = get_dataset_partitions_tf(data)\n"
      ],
      "metadata": {
        "id": "xC0nH-LwPynm"
      },
      "execution_count": null,
      "outputs": []
    },
    {
      "cell_type": "code",
      "source": [
        "print(len(data))\n",
        "print(len(train_data))\n",
        "print(len(test_data))\n",
        "print(len(val_data))"
      ],
      "metadata": {
        "id": "q2g_S2G3Nm_e"
      },
      "execution_count": null,
      "outputs": []
    },
    {
      "cell_type": "code",
      "source": [
        "# train_data = train_data.cache().shuffle(1000).prefetch(buffer_size=tf.data.AUTOTUNE)\n",
        "# val_data = val_data.cache().shuffle(1000).prefetch(buffer_size=tf.data.AUTOTUNE)\n",
        "# test_data = test_data.cache().shuffle(1000).prefetch(buffer_size=tf.data.AUTOTUNE)"
      ],
      "metadata": {
        "id": "zislTeCvP86Q"
      },
      "execution_count": null,
      "outputs": []
    },
    {
      "cell_type": "code",
      "source": [
        "resizing_rescaling = Sequential([\n",
        "    layers.Resizing(256,256),\n",
        "    layers.Rescaling(1./255)\n",
        "])"
      ],
      "metadata": {
        "id": "DuSbsfQ8tQUi"
      },
      "execution_count": null,
      "outputs": []
    },
    {
      "cell_type": "code",
      "source": [
        "data_augmentation = Sequential([\n",
        "    layers.RandomFlip(\"horizontal_and_vertical\"),\n",
        "    layers.RandomRotation(0.2)\n",
        "])"
      ],
      "metadata": {
        "id": "gnYDCXWQtlu9"
      },
      "execution_count": null,
      "outputs": []
    },
    {
      "cell_type": "code",
      "source": [
        "# var olan datasetimizi büyütmek, çeşitlendirdik\n",
        "train_data = train_data.map(\n",
        "    lambda x,y: (data_augmentation(x, training = True), y)\n",
        ").prefetch(buffer_size = tf.data.AUTOTUNE)"
      ],
      "metadata": {
        "id": "VKkt8F-lwznw"
      },
      "execution_count": null,
      "outputs": []
    },
    {
      "cell_type": "code",
      "source": [
        "# MODEL OLUŞTURMA\n",
        "model = models.Sequential([\n",
        "  resizing_rescaling,\n",
        "  layers.Conv2D(32, kernel_size = (3,3), activation = \"relu\", input_shape = (32,256,256,3)),\n",
        "  layers.MaxPooling2D(2,2),\n",
        "  layers.Conv2D(32, kernel_size = (3,3), activation = \"relu\"),\n",
        "  layers.MaxPooling2D(2,2),\n",
        "  layers.Flatten(),\n",
        "  layers.Dense(64, activation = \"relu\"),\n",
        "  layers.Dense(2, activation = \"softmax\")\n",
        "])\n",
        "model.build(input_shape = (32,256,256,3))"
      ],
      "metadata": {
        "id": "E4Usa9Po3aBD"
      },
      "execution_count": null,
      "outputs": []
    },
    {
      "cell_type": "code",
      "source": [
        "model.summary()"
      ],
      "metadata": {
        "id": "q3TQO3M_4XTA"
      },
      "execution_count": null,
      "outputs": []
    },
    {
      "cell_type": "code",
      "source": [
        "model.compile(\n",
        "    optimizer = Adam(),\n",
        "    loss = tf.keras.losses.SparseCategoricalCrossentropy(from_logits = False),\n",
        "    metrics = [\"accuracy\"]\n",
        ")"
      ],
      "metadata": {
        "id": "NTCWaWO76a7r"
      },
      "execution_count": null,
      "outputs": []
    },
    {
      "cell_type": "code",
      "source": [
        "history = model.fit(\n",
        "    train_data,\n",
        "    batch_size = 32,\n",
        "    validation_data = val_data,\n",
        "    verbose=1,\n",
        "    epochs=10,\n",
        ")"
      ],
      "metadata": {
        "id": "fedKQ9Jy8sq8"
      },
      "execution_count": null,
      "outputs": []
    },
    {
      "cell_type": "code",
      "source": [
        "score = model.evaluate(test_data,  verbose=1) # verbose parametresi debug modda asşağıdaki ve yukarıdaki görüntüyü görmek için yazarız\n",
        "print(\"test loss:\", score[0])\n",
        "print(\"test accuracy:\", score[1])"
      ],
      "metadata": {
        "id": "i4mpMEd_9F33"
      },
      "execution_count": null,
      "outputs": []
    },
    {
      "cell_type": "code",
      "source": [
        "score"
      ],
      "metadata": {
        "id": "Zz6ttFJVsppk"
      },
      "execution_count": null,
      "outputs": []
    },
    {
      "cell_type": "code",
      "source": [
        "model.save(\"cat_dog_detection.h5\")"
      ],
      "metadata": {
        "id": "HjXcTq8xUd55"
      },
      "execution_count": null,
      "outputs": []
    },
    {
      "cell_type": "code",
      "source": [
        "from tensorflow.keras.models import load_model\n",
        "from tensorflow.keras.preprocessing.image import load_img, img_to_array\n",
        "import numpy as np"
      ],
      "metadata": {
        "id": "N1eDlWdOUwzu"
      },
      "execution_count": null,
      "outputs": []
    },
    {
      "cell_type": "code",
      "source": [
        "model = load_model(\"cat_dog_detection.h5\")\n"
      ],
      "metadata": {
        "id": "CmCECAjDWvJE"
      },
      "execution_count": null,
      "outputs": []
    },
    {
      "cell_type": "code",
      "source": [
        "for image_batch, label_batch in test_data.take(1):\n",
        "  f_image = image_batch[1].numpy().astype(\"uint8\")\n",
        "  f_label = label_batch[1].numpy().astype(\"uint8\")\n",
        "\n",
        "  print(\"first image to predict\")\n",
        "  plt.imshow(f_image)\n",
        "  print(\"actual label: \",class_names[f_label])\n",
        "  batch_prediction = model.predict(image_batch)\n",
        "  print(\"predicted label: \",class_names[np.argmax(batch_prediction[0])])\n",
        "  plt.axis(\"off\")"
      ],
      "metadata": {
        "id": "z2Tj2rsdr1lE"
      },
      "execution_count": null,
      "outputs": []
    },
    {
      "cell_type": "code",
      "source": [
        "image = load_img(\"kopek.jpg\",target_size=(256,256))\n",
        "image = img_to_array(image)/255\n",
        "image = np.expand_dims(image, axis=0)"
      ],
      "metadata": {
        "id": "WOpS8WH-W1ba"
      },
      "execution_count": null,
      "outputs": []
    },
    {
      "cell_type": "code",
      "source": [
        "image.shape"
      ],
      "metadata": {
        "id": "_84hTqEKXIgb"
      },
      "execution_count": null,
      "outputs": []
    },
    {
      "cell_type": "code",
      "source": [
        "pred = model.predict(image)"
      ],
      "metadata": {
        "id": "ygZ9S2bcXwDh"
      },
      "execution_count": null,
      "outputs": []
    },
    {
      "cell_type": "code",
      "source": [
        "pred"
      ],
      "metadata": {
        "id": "V3bt3a7sX1PM"
      },
      "execution_count": null,
      "outputs": []
    },
    {
      "cell_type": "code",
      "source": [
        "pred.argmax()"
      ],
      "metadata": {
        "id": "Jfv1TC4AX4EQ"
      },
      "execution_count": null,
      "outputs": []
    },
    {
      "cell_type": "code",
      "source": [
        "class_names[0]"
      ],
      "metadata": {
        "id": "5JVeANkLX86H"
      },
      "execution_count": null,
      "outputs": []
    },
    {
      "cell_type": "code",
      "source": [],
      "metadata": {
        "id": "1qBBDH67YA1z"
      },
      "execution_count": null,
      "outputs": []
    }
  ]
}